{
 "cells": [
  {
   "cell_type": "code",
   "execution_count": 1,
   "id": "89050de3-4f8f-4dda-bd03-50a1e8f3a90d",
   "metadata": {},
   "outputs": [],
   "source": [
    "import yfinance as yf\n",
    "import matplotlib.pyplot as plt\n",
    "import warnings \n",
    "warnings.filterwarnings(\"ignore\")"
   ]
  },
  {
   "cell_type": "code",
   "execution_count": 2,
   "id": "bfeccbf3-c572-4638-afc4-4e17fb2214ad",
   "metadata": {},
   "outputs": [
    {
     "name": "stderr",
     "output_type": "stream",
     "text": [
      "[*********************100%***********************]  1 of 1 completed\n"
     ]
    }
   ],
   "source": [
    "data = yf.download(\"NVDA\", start = \"2024-1-1\", end = \"2024-12-31\")"
   ]
  },
  {
   "cell_type": "code",
   "execution_count": 3,
   "id": "2c1deaab-562d-461a-904d-58e290dfe11c",
   "metadata": {},
   "outputs": [
    {
     "data": {
      "text/html": [
       "<div>\n",
       "<style scoped>\n",
       "    .dataframe tbody tr th:only-of-type {\n",
       "        vertical-align: middle;\n",
       "    }\n",
       "\n",
       "    .dataframe tbody tr th {\n",
       "        vertical-align: top;\n",
       "    }\n",
       "\n",
       "    .dataframe thead tr th {\n",
       "        text-align: left;\n",
       "    }\n",
       "\n",
       "    .dataframe thead tr:last-of-type th {\n",
       "        text-align: right;\n",
       "    }\n",
       "</style>\n",
       "<table border=\"1\" class=\"dataframe\">\n",
       "  <thead>\n",
       "    <tr>\n",
       "      <th>Price</th>\n",
       "      <th>Close</th>\n",
       "      <th>High</th>\n",
       "      <th>Low</th>\n",
       "      <th>Open</th>\n",
       "      <th>Volume</th>\n",
       "    </tr>\n",
       "    <tr>\n",
       "      <th>Ticker</th>\n",
       "      <th>NVDA</th>\n",
       "      <th>NVDA</th>\n",
       "      <th>NVDA</th>\n",
       "      <th>NVDA</th>\n",
       "      <th>NVDA</th>\n",
       "    </tr>\n",
       "    <tr>\n",
       "      <th>Date</th>\n",
       "      <th></th>\n",
       "      <th></th>\n",
       "      <th></th>\n",
       "      <th></th>\n",
       "      <th></th>\n",
       "    </tr>\n",
       "  </thead>\n",
       "  <tbody>\n",
       "    <tr>\n",
       "      <th>2024-01-02</th>\n",
       "      <td>48.146572</td>\n",
       "      <td>49.273070</td>\n",
       "      <td>47.573829</td>\n",
       "      <td>49.222094</td>\n",
       "      <td>411254000</td>\n",
       "    </tr>\n",
       "    <tr>\n",
       "      <th>2024-01-03</th>\n",
       "      <td>47.547840</td>\n",
       "      <td>48.162564</td>\n",
       "      <td>47.298950</td>\n",
       "      <td>47.463878</td>\n",
       "      <td>320896000</td>\n",
       "    </tr>\n",
       "    <tr>\n",
       "      <th>2024-01-04</th>\n",
       "      <td>47.976654</td>\n",
       "      <td>48.478430</td>\n",
       "      <td>47.486870</td>\n",
       "      <td>47.745754</td>\n",
       "      <td>306535000</td>\n",
       "    </tr>\n",
       "    <tr>\n",
       "      <th>2024-01-05</th>\n",
       "      <td>49.075165</td>\n",
       "      <td>49.524965</td>\n",
       "      <td>48.284516</td>\n",
       "      <td>48.440449</td>\n",
       "      <td>415039000</td>\n",
       "    </tr>\n",
       "    <tr>\n",
       "      <th>2024-01-08</th>\n",
       "      <td>52.229759</td>\n",
       "      <td>52.251753</td>\n",
       "      <td>49.456995</td>\n",
       "      <td>49.489981</td>\n",
       "      <td>642510000</td>\n",
       "    </tr>\n",
       "  </tbody>\n",
       "</table>\n",
       "</div>"
      ],
      "text/plain": [
       "Price           Close       High        Low       Open     Volume\n",
       "Ticker           NVDA       NVDA       NVDA       NVDA       NVDA\n",
       "Date                                                             \n",
       "2024-01-02  48.146572  49.273070  47.573829  49.222094  411254000\n",
       "2024-01-03  47.547840  48.162564  47.298950  47.463878  320896000\n",
       "2024-01-04  47.976654  48.478430  47.486870  47.745754  306535000\n",
       "2024-01-05  49.075165  49.524965  48.284516  48.440449  415039000\n",
       "2024-01-08  52.229759  52.251753  49.456995  49.489981  642510000"
      ]
     },
     "execution_count": 3,
     "metadata": {},
     "output_type": "execute_result"
    }
   ],
   "source": [
    "data.head()"
   ]
  },
  {
   "cell_type": "code",
   "execution_count": 4,
   "id": "700cdff1-2176-4b7f-9f3c-177a70e02e61",
   "metadata": {},
   "outputs": [],
   "source": [
    "from statsmodels.tsa.stattools import adfuller\n",
    "\n",
    "def adf_test(series):\n",
    "    result = adfuller(series)\n",
    "    ADF_Statistics = result[0]\n",
    "    p_value = result[1]\n",
    "    print(ADF_Statistics)\n",
    "    print(p_value)\n",
    "    if p_value < 0.05:\n",
    "        print(\"Data is stationary and we accept the null hypothesis and reject the alternative hypothesis\")\n",
    "    else : \n",
    "        print(\"Data is not stationary and we reject the null hypothesis and accept the altrnative hypothesis\")"
   ]
  },
  {
   "cell_type": "code",
   "execution_count": 5,
   "id": "92b14e29-8bbf-4e3a-a22a-1753f06c5525",
   "metadata": {},
   "outputs": [
    {
     "name": "stdout",
     "output_type": "stream",
     "text": [
      "-1.9320334091741078\n",
      "0.31714483671643573\n",
      "Data is not stationary and we reject the null hypothesis and accept the altrnative hypothesis\n"
     ]
    }
   ],
   "source": [
    "Open_price = data[\"Open\"]\n",
    "adf_test(Open_price)"
   ]
  },
  {
   "cell_type": "code",
   "execution_count": 6,
   "id": "4118e334-d55c-49ba-8a34-36bb9c7aaad2",
   "metadata": {},
   "outputs": [
    {
     "data": {
      "text/html": [
       "<div>\n",
       "<style scoped>\n",
       "    .dataframe tbody tr th:only-of-type {\n",
       "        vertical-align: middle;\n",
       "    }\n",
       "\n",
       "    .dataframe tbody tr th {\n",
       "        vertical-align: top;\n",
       "    }\n",
       "\n",
       "    .dataframe thead th {\n",
       "        text-align: right;\n",
       "    }\n",
       "</style>\n",
       "<table border=\"1\" class=\"dataframe\">\n",
       "  <thead>\n",
       "    <tr style=\"text-align: right;\">\n",
       "      <th>Ticker</th>\n",
       "      <th>NVDA</th>\n",
       "    </tr>\n",
       "    <tr>\n",
       "      <th>Date</th>\n",
       "      <th></th>\n",
       "    </tr>\n",
       "  </thead>\n",
       "  <tbody>\n",
       "    <tr>\n",
       "      <th>2024-01-02</th>\n",
       "      <td>NaN</td>\n",
       "    </tr>\n",
       "    <tr>\n",
       "      <th>2024-01-03</th>\n",
       "      <td>-1.758216</td>\n",
       "    </tr>\n",
       "    <tr>\n",
       "      <th>2024-01-04</th>\n",
       "      <td>0.281876</td>\n",
       "    </tr>\n",
       "    <tr>\n",
       "      <th>2024-01-05</th>\n",
       "      <td>0.694695</td>\n",
       "    </tr>\n",
       "    <tr>\n",
       "      <th>2024-01-08</th>\n",
       "      <td>1.049532</td>\n",
       "    </tr>\n",
       "    <tr>\n",
       "      <th>...</th>\n",
       "      <td>...</td>\n",
       "    </tr>\n",
       "    <tr>\n",
       "      <th>2024-12-23</th>\n",
       "      <td>6.468951</td>\n",
       "    </tr>\n",
       "    <tr>\n",
       "      <th>2024-12-24</th>\n",
       "      <td>3.719413</td>\n",
       "    </tr>\n",
       "    <tr>\n",
       "      <th>2024-12-26</th>\n",
       "      <td>-0.299956</td>\n",
       "    </tr>\n",
       "    <tr>\n",
       "      <th>2024-12-27</th>\n",
       "      <td>-1.149807</td>\n",
       "    </tr>\n",
       "    <tr>\n",
       "      <th>2024-12-30</th>\n",
       "      <td>-3.719415</td>\n",
       "    </tr>\n",
       "  </tbody>\n",
       "</table>\n",
       "<p>251 rows × 1 columns</p>\n",
       "</div>"
      ],
      "text/plain": [
       "Ticker          NVDA\n",
       "Date                \n",
       "2024-01-02       NaN\n",
       "2024-01-03 -1.758216\n",
       "2024-01-04  0.281876\n",
       "2024-01-05  0.694695\n",
       "2024-01-08  1.049532\n",
       "...              ...\n",
       "2024-12-23  6.468951\n",
       "2024-12-24  3.719413\n",
       "2024-12-26 -0.299956\n",
       "2024-12-27 -1.149807\n",
       "2024-12-30 -3.719415\n",
       "\n",
       "[251 rows x 1 columns]"
      ]
     },
     "execution_count": 6,
     "metadata": {},
     "output_type": "execute_result"
    }
   ],
   "source": [
    "Open_price.diff()"
   ]
  },
  {
   "cell_type": "code",
   "execution_count": 7,
   "id": "bb05f61f-d674-470f-8f98-483e7de7ad32",
   "metadata": {},
   "outputs": [],
   "source": [
    "import numpy as np\n",
    "from scipy import stats"
   ]
  },
  {
   "cell_type": "code",
   "execution_count": 8,
   "id": "0eef489d-a085-46a4-b452-a603e6b6a06a",
   "metadata": {},
   "outputs": [
    {
     "name": "stdout",
     "output_type": "stream",
     "text": [
      "-3.0604542277820004\n",
      "0.029621570867505227\n",
      "Data is stationary and we accept the null hypothesis and reject the alternative hypothesis\n"
     ]
    }
   ],
   "source": [
    "#Log transformation\n",
    "Open_price_log = np.log(Open_price)\n",
    "adf_test(Open_price_log)"
   ]
  },
  {
   "cell_type": "code",
   "execution_count": 9,
   "id": "e0a4d393-efdf-4931-8e48-cfd4995e9e5c",
   "metadata": {},
   "outputs": [
    {
     "name": "stdout",
     "output_type": "stream",
     "text": [
      "-2.453769613842533\n",
      "0.12713155228185374\n",
      "Data is not stationary and we reject the null hypothesis and accept the altrnative hypothesis\n"
     ]
    }
   ],
   "source": [
    "# Square root  transformation\n",
    "Open_price_sqrt = np.sqrt(Open_price)\n",
    "adf_test(Open_price_sqrt)"
   ]
  },
  {
   "cell_type": "code",
   "execution_count": 10,
   "id": "a413adca-7ceb-47bd-923a-e2dbb757c321",
   "metadata": {},
   "outputs": [
    {
     "name": "stdout",
     "output_type": "stream",
     "text": [
      "-12.500711502672754\n",
      "2.8106550368831104e-23\n",
      "Data is stationary and we accept the null hypothesis and reject the alternative hypothesis\n"
     ]
    }
   ],
   "source": [
    "#Differencing\n",
    "diff_price_sqrt = Open_price.diff()\n",
    "adf_test(diff_price_sqrt.dropna())"
   ]
  },
  {
   "cell_type": "code",
   "execution_count": 11,
   "id": "86db2e88-6d38-4028-a48a-13fee4a693e9",
   "metadata": {},
   "outputs": [
    {
     "data": {
      "text/plain": [
       "True"
      ]
     },
     "execution_count": 11,
     "metadata": {},
     "output_type": "execute_result"
    }
   ],
   "source": [
    "2.8106271961423106e-23 < 0.05"
   ]
  },
  {
   "cell_type": "code",
   "execution_count": 15,
   "id": "43bb6370-1c3d-41cd-a525-9b8f424cf805",
   "metadata": {},
   "outputs": [
    {
     "name": "stdout",
     "output_type": "stream",
     "text": [
      "-2.6375000625638534\n",
      "0.08549176572503109\n",
      "Data is not stationary and we reject the null hypothesis and accept the altrnative hypothesis\n"
     ]
    }
   ],
   "source": [
    "#Detrending\n",
    "#Decomposition using Trend line\n",
    "import numpy as np\n",
    "from statsmodels.tsa.stattools import adfuller\n",
    "\n",
    "Open_price = data['Open'].values.flatten()\n",
    "trend = np.polyfit(np.arange(len(Open_price)), Open_price, 1)\n",
    "trendline = np.polyval(trend, np.arange(len(Open_price)))\n",
    "prices_detrended = Open_price - trendline  \n",
    "\n",
    "adf_test(prices_detrended)  "
   ]
  },
  {
   "cell_type": "code",
   "execution_count": 21,
   "id": "e2ceb9e1-2337-468a-a7f3-24569c65e08f",
   "metadata": {},
   "outputs": [
    {
     "data": {
      "image/png": "[encoded data removed]",
      "text/plain": [
       "<Figure size 640x480 with 1 Axes>"
      ]
     },
     "metadata": {},
     "output_type": "display_data"
    }
   ],
   "source": [
    "plt.plot(np.arange(len(Open_price)), trendline)\n",
    "plt.plot(np.arange(len(Open_price)), Open_price)\n",
    "plt.show()"
   ]
  },
  {
   "cell_type": "code",
   "execution_count": 25,
   "id": "0e39f6f8-6b8e-4fbf-9e6e-c6619d69bc85",
   "metadata": {},
   "outputs": [],
   "source": [
    "# Moving average\n",
    "Open_price = data[\"Open\"]\n",
    "Open_price_ma = Open_price.rolling(window = 12).mean()\n",
    "prices_detrended_ma = Open_price - Open_price_ma\n",
    "prices_detrended_ma = prices_detrended_ma.dropna()"
   ]
  },
  {
   "cell_type": "code",
   "execution_count": 27,
   "id": "a916df24-e7b2-4b98-b84b-61b01ca3e472",
   "metadata": {},
   "outputs": [
    {
     "name": "stdout",
     "output_type": "stream",
     "text": [
      "-3.242825446045322\n",
      "0.01763580219122516\n",
      "Data is stationary and we accept the null hypothesis and reject the alternative hypothesis\n"
     ]
    }
   ],
   "source": [
    "adf_test(prices_detrended_ma)"
   ]
  },
  {
   "cell_type": "code",
   "execution_count": 29,
   "id": "5ab028a3-7688-4018-82af-3bc488ccb2d1",
   "metadata": {},
   "outputs": [
    {
     "data": {
      "image/png": "[encoded data removed]",
      "text/plain": [
       "<Figure size 640x480 with 1 Axes>"
      ]
     },
     "metadata": {},
     "output_type": "display_data"
    }
   ],
   "source": [
    "plt.plot(np.arange(len(Open_price)), Open_price_ma)\n",
    "plt.plot(np.arange(len(Open_price)), Open_price)\n",
    "plt.show()"
   ]
  },
  {
   "cell_type": "code",
   "execution_count": null,
   "id": "423dda66-9bb1-487e-8ac4-08c35b19c8e0",
   "metadata": {},
   "outputs": [],
   "source": []
  }
 ],
 "metadata": {
  "kernelspec": {
   "display_name": "Python [conda env:base] *",
   "language": "python",
   "name": "conda-base-py"
  },
  "language_info": {
   "codemirror_mode": {
    "name": "ipython",
    "version": 3
   },
   "file_extension": ".py",
   "mimetype": "text/x-python",
   "name": "python",
   "nbconvert_exporter": "python",
   "pygments_lexer": "ipython3",
   "version": "3.12.7"
  }
 },
 "nbformat": 4,
 "nbformat_minor": 5
}
